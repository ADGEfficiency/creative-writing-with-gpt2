{
 "cells": [
  {
   "cell_type": "code",
   "execution_count": 1,
   "id": "d8ece406-a2c3-4146-97b1-9e3cca7ef829",
   "metadata": {},
   "outputs": [
    {
     "data": {
      "text/plain": [
       "[PosixPath('../models/bible'),\n",
       " PosixPath('../models/alan-watts'),\n",
       " PosixPath('../models/watts-war-mahabarta')]"
      ]
     },
     "execution_count": 1,
     "metadata": {},
     "output_type": "execute_result"
    }
   ],
   "source": [
    "#  sometimes binder won't install `creative` package",
    "!pip install -e .. -q",
    "from creative.app import load_models, get_last_checkpoint\n",
    "from creative.evaluate import load_checkpoint, evaluate\n",
    "from pathlib import Path\n",
    "\n",
    "models = load_models(Path('..'))\n",
    "models"
   ]
  },
  {
   "cell_type": "markdown",
   "id": "5395181a-616f-46e4-9000-725bc7f62a4f",
   "metadata": {},
   "source": [
    "Choose the last model (we could pick another model here):"
   ]
  },
  {
   "cell_type": "code",
   "execution_count": 2,
   "id": "32c0c804-4858-4183-a83b-afc1dd836cc1",
   "metadata": {},
   "outputs": [],
   "source": [
    "model = models[-1]"
   ]
  },
  {
   "cell_type": "markdown",
   "id": "6188d62f-19ee-4fb5-a990-e1040cbd8642",
   "metadata": {},
   "source": [
    "Load the last model checkpoint for this model:"
   ]
  },
  {
   "cell_type": "code",
   "execution_count": 3,
   "id": "27c43a4d-7a5b-49a5-9bbf-ba953e12162e",
   "metadata": {},
   "outputs": [],
   "source": [
    "checkpoint = get_last_checkpoint(model)\n",
    "model = load_checkpoint(checkpoint)"
   ]
  },
  {
   "cell_type": "markdown",
   "id": "6ff87a05-78db-4a27-a570-6e9449e2c850",
   "metadata": {},
   "source": [
    "Run a prompt through the model:"
   ]
  },
  {
   "cell_type": "code",
   "execution_count": 9,
   "id": "743c94ff-b4ae-47c3-b1ef-4b3a80c2febf",
   "metadata": {},
   "outputs": [
    {
     "name": "stderr",
     "output_type": "stream",
     "text": [
      "Setting `pad_token_id` to `eos_token_id`:50256 for open-end generation.\n"
     ]
    },
    {
     "name": "stdout",
     "output_type": "stream",
     "text": [
      "Prompt: The door closed\n",
      "\n",
      "Response: The door closed behind me, and I saw that the door was locked. And I said, Well, Ive got to get out of here. I can’t do it.” And he said Yes, but I have to go. So I got out and got ahold of him and said “Okay, let me get back to you. Let me see if you can help me out. If you“re going to do this, you must be very, very careful not to hurt anybody else. Because if I hurt you, then you would be dead. You would not be alive. But you know what happens when you try to help somebody else? You try and get them to give you up, because they arent going anywhere. They are going somewhere. Theres nothing they can do to stop you from doing this.   So then I went back into the room and sat down on the bed and began to meditate. Then I started to feel a little bit more relaxed. It was just a matter of time before I felt the same way again. That was the beginning of the end of my meditation. Now, this is a very important point. When you are in a state of meditation, theres a certain kind of\n"
     ]
    }
   ],
   "source": [
    "prompt = \"The door closed\"\n",
    "response = evaluate(model['tokenizer'], model['mdl'], prompt, max_length=256)\n",
    "print(f'Prompt: {prompt}\\n\\nResponse: {response}')"
   ]
  },
  {
   "cell_type": "code",
   "execution_count": null,
   "id": "d3b3e757-4d65-4d21-942b-87f6a06243e7",
   "metadata": {},
   "outputs": [],
   "source": []
  }
 ],
 "metadata": {
  "kernelspec": {
   "display_name": "Python 3 (ipykernel)",
   "language": "python",
   "name": "python3"
  },
  "language_info": {
   "codemirror_mode": {
    "name": "ipython",
    "version": 3
   },
   "file_extension": ".py",
   "mimetype": "text/x-python",
   "name": "python",
   "nbconvert_exporter": "python",
   "pygments_lexer": "ipython3",
   "version": "3.8.12"
  }
 },
 "nbformat": 4,
 "nbformat_minor": 5
}
