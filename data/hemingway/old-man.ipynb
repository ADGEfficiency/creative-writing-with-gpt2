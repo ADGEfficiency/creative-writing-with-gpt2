{
 "cells": [
  {
   "cell_type": "code",
   "execution_count": 1,
   "metadata": {},
   "outputs": [],
   "source": [
    "import requests\n",
    "\n",
    "from bs4 import BeautifulSoup\n",
    "\n",
    "res = requests.get('https://archive.org/stream/oldmansea00hemi_1/oldmansea00hemi_1_djvu.txt')\n",
    "\n",
    "soup = BeautifulSoup(res.content)\n",
    "\n",
    "text = soup.body.find_all('pre')\n",
    "\n",
    "with open('raw.txt', 'w') as fi:\n",
    "    fi.write(text[0].text)"
   ]
  },
  {
   "cell_type": "code",
   "execution_count": null,
   "metadata": {},
   "outputs": [],
   "source": []
  }
 ],
 "metadata": {
  "kernelspec": {
   "display_name": "Python 3",
   "language": "python",
   "name": "python3"
  },
  "language_info": {
   "codemirror_mode": {
    "name": "ipython",
    "version": 3
   },
   "file_extension": ".py",
   "mimetype": "text/x-python",
   "name": "python",
   "nbconvert_exporter": "python",
   "pygments_lexer": "ipython3",
   "version": "3.6.8"
  }
 },
 "nbformat": 4,
 "nbformat_minor": 4
}
