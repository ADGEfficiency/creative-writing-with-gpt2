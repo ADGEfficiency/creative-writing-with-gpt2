{
 "cells": [
  {
   "cell_type": "markdown",
   "metadata": {},
   "source": [
    "https://jacobsm.com/deoxy/deoxy.org/w_self.htm"
   ]
  },
  {
   "cell_type": "code",
   "execution_count": 1,
   "metadata": {},
   "outputs": [],
   "source": [
    "import requests\n",
    "\n",
    "lectures = [\n",
    "    'https://jacobsm.com/deoxy/deoxy.org/w_self.htm', \n",
    "    'https://jacobsm.com/deoxy/deoxy.org/w_nature.htm', \n",
    "    'https://jacobsm.com/deoxy/deoxy.org/w_world.htm', \n",
    "    'https://jacobsm.com/deoxy/deoxy.org/w_lectur.htm'\n",
    "]\n",
    "\n",
    "out = ''\n",
    "for lct in lectures:\n",
    "    \n",
    "    res = requests.get(lct)\n",
    "    from bs4 import BeautifulSoup\n",
    "\n",
    "    soup = BeautifulSoup(res.content)\n",
    "    samples = soup.find_all(\"p\")\n",
    "    \n",
    "    for s in samples:\n",
    "        s = s.text.replace('\\n', ' ')\n",
    "        s = s.replace('   ', '')\n",
    "\n",
    "        s = s.replace(\"' \", \"\")\n",
    "        s = s.replace(\"\\'\", \"\")\n",
    "\n",
    "        out += s"
   ]
  },
  {
   "cell_type": "markdown",
   "metadata": {},
   "source": [
    "https://huggingface.co/transformers/examples.html#language-model-fine-tuning\n",
    "\n",
    "```bash\n",
    "export TRAIN_FILE=alan-watts.txt\n",
    "export TEST_FILE=alan-watts.txt\n",
    "\n",
    "python run_lm_finetuning.py \\\n",
    "    --output_dir=output \\\n",
    "    --model_type=gpt2 \\\n",
    "    --model_name_or_path=gpt2 \\\n",
    "    --do_train \\\n",
    "    --train_data_file=$TRAIN_FILE \\\n",
    "    --do_eval \\\n",
    "    --eval_data_file=$TEST_FILE \\\n",
    "    --num_train_epochs=2 \n",
    "\n",
    "\n",
    "python run_generation.py \\\n",
    "    --model_type=gpt2 \\\n",
    "    --model_name_or_path=gpt2\n",
    "```\n"
   ]
  },
  {
   "cell_type": "code",
   "execution_count": 2,
   "metadata": {},
   "outputs": [],
   "source": [
    "organisms = [\n",
    "    'https://www.organism.earth/library/document/03',\n",
    "    'https://www.organism.earth/library/document/07',\n",
    "    'https://www.organism.earth/library/document/08',\n",
    "    'https://www.organism.earth/library/document/98',\n",
    "    'https://www.organism.earth/library/document/11',\n",
    "    'https://www.organism.earth/library/document/12',\n",
    "    'https://www.organism.earth/library/document/13',\n",
    "    'https://www.organism.earth/library/document/14',\n",
    "    'https://www.organism.earth/library/document/15',\n",
    "    'https://www.organism.earth/library/document/23',\n",
    "    'https://www.organism.earth/library/document/27'\n",
    "]\n",
    "\n",
    "for lct in organisms:\n",
    "    \n",
    "    res = requests.get(lct)\n",
    "    from bs4 import BeautifulSoup\n",
    "\n",
    "    soup = BeautifulSoup(res.content)\n",
    "    samples = soup.find_all(\"p\")\n",
    "    \n",
    "    for s in samples:\n",
    "        s = s.text.replace('\\n', ' ')\n",
    "        s = s.replace('   ', '')\n",
    "\n",
    "        s = s.replace(\"' \", \"\")\n",
    "        s = s.replace(\"\\'\", \"\")\n",
    "        s = s.replace(\"\\t\", \"\")\n",
    "\n",
    "        out += s"
   ]
  },
  {
   "cell_type": "code",
   "execution_count": 3,
   "metadata": {},
   "outputs": [],
   "source": [
    "with open('alan-watts.txt', 'w') as alan:\n",
    "    alan.write(out)"
   ]
  },
  {
   "cell_type": "code",
   "execution_count": 4,
   "metadata": {},
   "outputs": [
    {
     "data": {
      "text/plain": [
       "''"
      ]
     },
     "execution_count": 4,
     "metadata": {},
     "output_type": "execute_result"
    }
   ],
   "source": [
    "s"
   ]
  },
  {
   "cell_type": "markdown",
   "metadata": {},
   "source": [
    "## Samples from `alan-gpt2`\n",
    "\n",
    "Model prompt >>> What do you mean\n",
    "\n",
    " by Im going to give you a lotta credit for anything in life, so that I can use to give you naught more than what you bought with my money?And you know what I mean. Alright, back to the trip. Actually, this is a rather unusual thing. In this particular situation, however, the wishes of one is nothing more than the wishes of all people. Its the mind that makes you feel what your heart is making you feel. People experience everything in a completely other\n",
    " \n",
    " \n",
    " Model prompt >>> The self\n",
    "\n",
    "-destruct is not something that begins, but rather happens in a certain way. The ego bursts. Its coming out, and you've got an explosion. Then you realize you had always followed it. You forget. We all come back here to our senses and we learn to act in accordance with the self-destruct. But we start from the beginning—you know, just before we hit the primal button, we do our burst. But the ego actually knows when we hit the reset button, and\n",
    " \n",
    " \n",
    " Model prompt >>> The atman\n",
    " \n",
    "ic trust-system itself is not an aesthetic characteristic of asceticism, for it is strongly influenced by a fundamentally mechanical school of thought, which is based on beliefs rather than styles and opinions. Its followers believe that there is no divine power to govern anything whatsoever; there is only God; but on the other hand, they feel that there is a central omnipotence, named it NOOOOOO, which does anything it wants to do, and it doesn't judge anyone at all. Its simply\n",
    "\n",
    "Model prompt >>> It was the downfall of Zhou\n",
    "\n",
    "Guohu. Because he said, By seeing that there was no one to explain it to, that a discipline were only logical to a mind, he had intended it to become meaningless. Even though his philosophy was completely unknown to ordinary people, he believed his discipline would be useful in allowing life to progress, and he made it his aim to do so through the use of hallucinogens and musical instruments. There were various kinds of mushrooms, and he found mushrooms especially fascinating to take on LSD.\n",
    " \n",
    " \n"
   ]
  }
 ],
 "metadata": {
  "kernelspec": {
   "display_name": "Python 3",
   "language": "python",
   "name": "python3"
  },
  "language_info": {
   "codemirror_mode": {
    "name": "ipython",
    "version": 3
   },
   "file_extension": ".py",
   "mimetype": "text/x-python",
   "name": "python",
   "nbconvert_exporter": "python",
   "pygments_lexer": "ipython3",
   "version": "3.6.8"
  }
 },
 "nbformat": 4,
 "nbformat_minor": 4
}
