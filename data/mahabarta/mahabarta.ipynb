{
 "cells": [
  {
   "cell_type": "markdown",
   "metadata": {},
   "source": [
    "https://www.sacred-texts.com/hin/maha/mahatxt.zip"
   ]
  },
  {
   "cell_type": "code",
   "execution_count": null,
   "metadata": {},
   "outputs": [],
   "source": [
    "len('The object of a translator should ever be to hold the mirror upto his ')"
   ]
  },
  {
   "cell_type": "code",
   "execution_count": null,
   "metadata": {},
   "outputs": [],
   "source": [
    "def clean(s):\n",
    "\n",
    "    s = s.replace('\\n', ' ')\n",
    "    s = s.replace('   ', '')\n",
    "\n",
    "    s = s.replace(\"' \", \"\")\n",
    "    s = s.replace(\"\\'\", \"\")\n",
    "\n",
    "    return s\n",
    "\n",
    "from pathlib import Path\n",
    "\n",
    "p = Path().cwd() / 'mahatxt'\n",
    "\n",
    "mahas = p.glob('*.txt')\n",
    "\n",
    "for fi in mahas:\n",
    "    print(fi)\n",
    "\n",
    "    with open(fi, 'r') as raw:\n",
    "        maha = []\n",
    "        for line in raw.readlines():\n",
    "\n",
    "            if len(line) > 50:\n",
    "                maha.append(clean(line))"
   ]
  },
  {
   "cell_type": "code",
   "execution_count": null,
   "metadata": {},
   "outputs": [],
   "source": [
    "maha = maha[200:]"
   ]
  },
  {
   "cell_type": "code",
   "execution_count": null,
   "metadata": {},
   "outputs": [],
   "source": [
    "len(maha)"
   ]
  },
  {
   "cell_type": "code",
   "execution_count": null,
   "metadata": {},
   "outputs": [],
   "source": [
    "maha = ''.join(maha)\n",
    "\n",
    "with open('clean.txt', 'w') as outfile:\n",
    "    outfile.write(maha)"
   ]
  },
  {
   "cell_type": "code",
   "execution_count": null,
   "metadata": {},
   "outputs": [],
   "source": []
  }
 ],
 "metadata": {
  "kernelspec": {
   "display_name": "Python 3",
   "language": "python",
   "name": "python3"
  },
  "language_info": {
   "codemirror_mode": {
    "name": "ipython",
    "version": 3
   },
   "file_extension": ".py",
   "mimetype": "text/x-python",
   "name": "python",
   "nbconvert_exporter": "python",
   "pygments_lexer": "ipython3",
   "version": "3.6.8"
  }
 },
 "nbformat": 4,
 "nbformat_minor": 4
}
