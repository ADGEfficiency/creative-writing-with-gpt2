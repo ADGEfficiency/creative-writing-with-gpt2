{
 "cells": [
  {
   "cell_type": "code",
   "execution_count": 6,
   "metadata": {},
   "outputs": [],
   "source": [
    "import requests\n",
    "\n",
    "res = requests.get('https://www.linguistik.uzh.ch/dam/jcr:169bff5c-ac13-457b-9acb-4fe7f1ad5cb0/Harry%20Potter%20and%20the%20Sorcerer.txt')\n",
    "\n",
    "with open('raw.txt', 'w') as fi:\n",
    "    fi.write(res.text)"
   ]
  },
  {
   "cell_type": "code",
   "execution_count": null,
   "metadata": {},
   "outputs": [],
   "source": [
    "with open('./harry.txt', 'a') as out:\n",
    "\n",
    "    with open('./Harry Potter and the Sorcerer.txt', 'r') as inp:\n",
    "        # for c, line in enumerate(inp):\n",
    "        #     print(c)\n",
    "        #     print(line)\n",
    "        done = False\n",
    "        data = []\n",
    "        while not done:\n",
    "            try:\n",
    "                o = next(inp)\n",
    "                data.append(o)\n",
    "                out.write(o)\n",
    "                print(o)\n",
    "            except:\n",
    "                pass\n"
   ]
  }
 ],
 "metadata": {
  "kernelspec": {
   "display_name": "Python 3",
   "language": "python",
   "name": "python3"
  },
  "language_info": {
   "codemirror_mode": {
    "name": "ipython",
    "version": 3
   },
   "file_extension": ".py",
   "mimetype": "text/x-python",
   "name": "python",
   "nbconvert_exporter": "python",
   "pygments_lexer": "ipython3",
   "version": "3.6.8"
  }
 },
 "nbformat": 4,
 "nbformat_minor": 4
}
